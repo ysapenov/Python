{
 "cells": [
  {
   "cell_type": "markdown",
   "id": "d52898a0",
   "metadata": {},
   "source": [
    "Here is the notebook for using Dedupe library in the Microsoft Fabric.  \n",
    "The main benefits of this notebook is to avoid problem with interactivity of dedupe.console_label(deduper)  \n",
    "Dedupe library has active learning algorithm, so it is necessary to mark pairs after each input. "
   ]
  },
  {
   "cell_type": "markdown",
   "id": "036b005c-ab63-4afa-bec0-c007eaf82d00",
   "metadata": {
    "jp-MarkdownHeadingCollapsed": true,
    "microsoft": {
     "language": "python",
     "language_group": "synapse_pyspark"
    },
    "nteract": {
     "transient": {
      "deleting": false
     }
    }
   },
   "source": [
    "## Import libraries"
   ]
  },
  {
   "cell_type": "code",
   "execution_count": null,
   "id": "928802a7-53fa-44bb-8936-6c5150d37fc8",
   "metadata": {
    "jupyter": {
     "outputs_hidden": true
    },
    "microsoft": {
     "language": "python",
     "language_group": "synapse_pyspark"
    }
   },
   "outputs": [],
   "source": [
    "## Import libraries\n",
    "!pip install dedupe"
   ]
  },
  {
   "cell_type": "code",
   "execution_count": null,
   "id": "51a3e739-1101-4f7b-9eda-250dfe1dbc18",
   "metadata": {
    "jupyter": {
     "outputs_hidden": true
    },
    "microsoft": {
     "language": "python",
     "language_group": "synapse_pyspark"
    }
   },
   "outputs": [],
   "source": [
    "%pip install ipywidgets"
   ]
  },
  {
   "cell_type": "code",
   "execution_count": null,
   "id": "f36661f4-1724-47b5-8b43-aac21a713b8f",
   "metadata": {
    "microsoft": {
     "language": "python",
     "language_group": "synapse_pyspark"
    }
   },
   "outputs": [],
   "source": [
    "# Now launch widget UI labeling\n",
    "import ipywidgets as widgets\n",
    "from IPython.display import display, clear_output"
   ]
  },
  {
   "cell_type": "code",
   "execution_count": null,
   "id": "f4785ee7-8f49-4d20-bb14-afcdde23a35e",
   "metadata": {
    "microsoft": {
     "language": "python",
     "language_group": "synapse_pyspark"
    }
   },
   "outputs": [],
   "source": [
    "import dedupe\n",
    "import pandas as pd\n",
    "import numpy as np\n",
    "from dedupe import variables"
   ]
  },
  {
   "cell_type": "markdown",
   "id": "1dbdbb8b-7847-43f4-b4fb-6bf529a5880e",
   "metadata": {
    "microsoft": {
     "language": "python",
     "language_group": "synapse_pyspark"
    },
    "nteract": {
     "transient": {
      "deleting": false
     }
    }
   },
   "source": [
    "## Load data"
   ]
  },
  {
   "cell_type": "code",
   "execution_count": null,
   "id": "852b53a6-7534-4952-9735-6c8176aee66c",
   "metadata": {
    "advisor": {
     "adviceMetadata": "{\"artifactId\":\"bfec1a15-e6a6-4761-b6ef-eef87c19aec8\",\"activityId\":\"e8fc23e6-22fa-40a9-8a26-8294244d81c5\",\"applicationId\":\"application_1751413450652_0001\",\"jobGroupId\":\"12\",\"advices\":{\"warn\":1}}"
    },
    "microsoft": {
     "language": "python",
     "language_group": "synapse_pyspark"
    }
   },
   "outputs": [],
   "source": [
    "df = spark.sql(\"SELECT * FROM Site_Project.final_union_personnel_clean  LIMIT ALL\").toPandas()"
   ]
  },
  {
   "cell_type": "code",
   "execution_count": null,
   "id": "60967528-108c-4a36-a189-8ed2ed2aac2e",
   "metadata": {
    "microsoft": {
     "language": "python",
     "language_group": "synapse_pyspark"
    }
   },
   "outputs": [],
   "source": [
    "cols_to_clean = [\n",
    "    \"address_street_1_clean\",\n",
    "    \"address_street_2_clean\",\n",
    "    \"city_clean\",\n",
    "    \"state_clean\",\n",
    "    \"country_clean\"\n",
    "]\n",
    "\n",
    "df[cols_to_clean] = df[cols_to_clean].replace(r'^\\s*$', pd.NA, regex=True)\n",
    "\n",
    "# Step 2: Combine address parts (without empty strings), using string join logic\n",
    "df[\"full_address_clean\"] = df[cols_to_clean].apply(\n",
    "    lambda row: \", \".join(row.dropna().astype(str)), axis=1\n",
    ")\n",
    "\n",
    "df[\"full_address_clean\"] = df[\"full_address_clean\"].replace(r'^\\s*$', pd.NA, regex=True)"
   ]
  },
  {
   "cell_type": "code",
   "execution_count": null,
   "id": "5ff27b14-1fc6-4123-b63a-8b8492c7a4c8",
   "metadata": {
    "microsoft": {
     "language": "python",
     "language_group": "synapse_pyspark"
    }
   },
   "outputs": [],
   "source": [
    "(df.astype(str).apply(lambda x: x.str.strip() == \"\")).sum()"
   ]
  },
  {
   "cell_type": "code",
   "execution_count": null,
   "id": "679492ae-dc41-446a-a0e9-a6642a5cbb5a",
   "metadata": {
    "microsoft": {
     "language": "python",
     "language_group": "synapse_pyspark"
    }
   },
   "outputs": [],
   "source": [
    "# Step 1: Create a unique ID column for dedupe\n",
    "df['record_id'] = df.index.astype(str)  # create from row index"
   ]
  },
  {
   "cell_type": "code",
   "execution_count": null,
   "id": "2c7f4ad6-00c5-4db1-85f5-eea43847aa96",
   "metadata": {
    "microsoft": {
     "language": "python",
     "language_group": "synapse_pyspark"
    }
   },
   "outputs": [],
   "source": [
    "#Null and Distinct counts function\n",
    "def summarize_nulls(df, df_name):\n",
    "    total_rows = len(df)\n",
    "    null_count = df.isnull().sum()\n",
    "    distinct_count = df.nunique()\n",
    "    null_counts_summary = pd.DataFrame( {\n",
    "        \"Missing Values\" : null_count,\n",
    "        \"Percentage\": (null_count/total_rows * 100).round(2),\n",
    "        \"Distinct Values\" : distinct_count,\n",
    "        \"Percentage Distinct of Non Missing\" : (distinct_count/(total_rows-null_count) * 100).round(2),\n",
    "        \"Percentage Distinct\" : (distinct_count/total_rows * 100).round(2),\n",
    "        \"Total Rows\" : total_rows\n",
    "    }).sort_values(by='Missing Values', ascending=False)\n",
    "    print(f\"Null counts in '{df_name}' by column (highest to lowest):\")\n",
    "    print(null_counts_summary)"
   ]
  },
  {
   "cell_type": "code",
   "execution_count": null,
   "id": "b2233160-6b08-4fda-9920-3067c6409587",
   "metadata": {
    "jupyter": {
     "outputs_hidden": true
    },
    "microsoft": {
     "language": "python",
     "language_group": "synapse_pyspark"
    }
   },
   "outputs": [],
   "source": [
    "pd.set_option('display.max_columns', None)         # Show all columns\n",
    "pd.set_option('display.expand_frame_repr', False)  # Prevent wrapping to the next line\n",
    "pd.set_option('display.max_colwidth', None)        # Show full content of each cell\n",
    "summarize_nulls(df, \"union_personel\")"
   ]
  },
  {
   "cell_type": "markdown",
   "id": "3a8dccff-db29-458a-afaf-e612402c05d0",
   "metadata": {
    "microsoft": {
     "language": "python",
     "language_group": "synapse_pyspark"
    },
    "nteract": {
     "transient": {
      "deleting": false
     }
    }
   },
   "source": [
    "## Dedupe data"
   ]
  },
  {
   "cell_type": "code",
   "execution_count": null,
   "id": "05512634-7341-4579-a30c-7f7e0df8492a",
   "metadata": {
    "microsoft": {
     "language": "python",
     "language_group": "synapse_pyspark"
    }
   },
   "outputs": [],
   "source": [
    "#STEP 2: Fields used in dedupe ✅\n",
    "dedupe_fields = [\n",
    "    'full_name_clean',\n",
    "    'name_prefix_clean',\n",
    "    'name_suffix_clean',\n",
    "    'email_clean', \n",
    "    'phone_clean',\n",
    "    'fax_number_clean',\n",
    "    'address_street_1_clean',\n",
    "    'city_clean',\n",
    "    'state_clean',\n",
    "    'country_clean',\n",
    "    'postal_code_clean',\n",
    "    'full_address_clean'\n",
    "]"
   ]
  },
  {
   "cell_type": "code",
   "execution_count": null,
   "id": "421931c0-8d10-4a47-a8e8-32239174e96d",
   "metadata": {
    "microsoft": {
     "language": "python",
     "language_group": "synapse_pyspark"
    }
   },
   "outputs": [],
   "source": [
    "# change NA to None, requirement from dedupe library\n",
    "df = df.applymap(lambda x: None if pd.isna(x) else x)"
   ]
  },
  {
   "cell_type": "code",
   "execution_count": null,
   "id": "78dd1ad8-6a63-4404-a135-cde78a890374",
   "metadata": {
    "microsoft": {
     "language": "python",
     "language_group": "synapse_pyspark"
    }
   },
   "outputs": [],
   "source": [
    "# Step 2: Convert fields to dict-of-dicts format as required in dedupe documentation\n",
    "data_d = df.set_index('record_id')[dedupe_fields].to_dict(orient='index')"
   ]
  },
  {
   "cell_type": "code",
   "execution_count": null,
   "id": "aff9a14e-6619-4ebd-81bd-a042c80f54fd",
   "metadata": {
    "jupyter": {
     "outputs_hidden": true
    },
    "microsoft": {
     "language": "python",
     "language_group": "synapse_pyspark"
    }
   },
   "outputs": [],
   "source": [
    "# for inspection \n",
    "for k in list(data_d)[:10]:\n",
    "    print(f\"{k}: {data_d[k]}\")"
   ]
  },
  {
   "cell_type": "markdown",
   "id": "211c69db-720b-4e4c-8478-8d2c79424956",
   "metadata": {
    "microsoft": {
     "language": "python",
     "language_group": "synapse_pyspark"
    },
    "nteract": {
     "transient": {
      "deleting": false
     }
    }
   },
   "source": [
    "## Dedupe"
   ]
  },
  {
   "cell_type": "code",
   "execution_count": null,
   "id": "8896da24-9512-4bbf-aa4d-bd4e6418aa17",
   "metadata": {
    "microsoft": {
     "language": "python",
     "language_group": "synapse_pyspark"
    }
   },
   "outputs": [],
   "source": [
    "# Defining type of each variable for dedupe ✅\n",
    "variable_definition = [\n",
    "    variables.String(\"full_name_clean\", has_missing=True),\n",
    "    variables.ShortString(\"name_prefix_clean\", has_missing=True),\n",
    "    variables.ShortString(\"name_suffix_clean\", has_missing=True),\n",
    "    variables.String(\"email_clean\", has_missing=True),\n",
    "    variables.String(\"phone_clean\", has_missing=True),\n",
    "    variables.String(\"fax_number_clean\", has_missing=True),\n",
    "    variables.String(\"address_street_1_clean\", has_missing=True),\n",
    "    variables.ShortString(\"city_clean\", name=\"city\", has_missing=True),\n",
    "    variables.ShortString(\"state_clean\", has_missing=True),\n",
    "    variables.Exact(\"country_clean\", has_missing=True),\n",
    "    variables.ShortString(\"postal_code_clean\", has_missing=True),\n",
    "    variables.Text(\"full_address_clean\", has_missing=True)\n",
    "]"
   ]
  },
  {
   "cell_type": "code",
   "execution_count": null,
   "id": "2d740018-f4f4-4819-a331-1a7fa8a873e7",
   "metadata": {
    "jupyter": {
     "outputs_hidden": false
    },
    "microsoft": {
     "language": "python",
     "language_group": "synapse_pyspark"
    }
   },
   "outputs": [],
   "source": [
    "#Initialize deduper with variable definition\n",
    "deduper = dedupe.Dedupe(variable_definition)"
   ]
  },
  {
   "cell_type": "code",
   "execution_count": null,
   "id": "82613433-ff4e-4418-a753-37ee3473d506",
   "metadata": {
    "jupyter": {
     "outputs_hidden": false
    },
    "microsoft": {
     "language": "python",
     "language_group": "synapse_pyspark"
    }
   },
   "outputs": [],
   "source": [
    "#Start active learning for labeling pairs (interactive labeling will start, but here faked it)\n",
    "deduper.prepare_training(data_d, sample_size=10000)"
   ]
  },
  {
   "cell_type": "code",
   "execution_count": null,
   "id": "322faae3-de81-4fa5-a0f9-8fadee39cdf9",
   "metadata": {
    "microsoft": {
     "language": "python",
     "language_group": "synapse_pyspark"
    }
   },
   "outputs": [],
   "source": [
    "labeled = {'match': [], 'distinct': [], 'unsure': []}\n",
    "index = 0\n",
    "stop_labeling = False  # Global control flag"
   ]
  },
  {
   "cell_type": "code",
   "execution_count": null,
   "id": "4852643e-f391-49f1-a991-aa88f65a364b",
   "metadata": {
    "microsoft": {
     "language": "python",
     "language_group": "synapse_pyspark"
    }
   },
   "outputs": [],
   "source": [
    "def show_pair(i):\n",
    "    if stop_labeling:\n",
    "        print(\"✅ Labeling stopped. You can now train your model.\")\n",
    "        return\n",
    "\n",
    "    pairs = deduper.uncertain_pairs()\n",
    "\n",
    "    rec1, rec2 = pairs[0]\n",
    "\n",
    "    clear_output()\n",
    "    print(\"\\n🟦 Record 1:\")\n",
    "    for k, v in rec1.items(): print(f\"  {k}: {v}\")\n",
    "    print(\"\\n🟥 Record 2:\")\n",
    "    for k, v in rec2.items(): print(f\"  {k}: {v}\")\n",
    "    print(\"\\nIs this a match?\")\n",
    "\n",
    "    btn_yes = widgets.Button(description=\"✅ Yes\")\n",
    "    btn_no = widgets.Button(description=\"❌ No\")\n",
    "    btn_unsure = widgets.Button(description=\"❓ Unsure\")\n",
    "    btn_exit = widgets.Button(description=\"⏹ Exit Labeling\")\n",
    "\n",
    "    def on_click_factory(label):\n",
    "        def on_click(b):\n",
    "            labeled[label].append((rec1, rec2))\n",
    "            next_pair()\n",
    "        return on_click\n",
    "    \n",
    "    def on_exit(b):\n",
    "        global stop_labeling\n",
    "        stop_labeling = True\n",
    "        print(\"✅ Labeling stopped. You can now train your model.\")\n",
    "\n",
    "    btn_yes.on_click(on_click_factory(\"match\"))\n",
    "    btn_no.on_click(on_click_factory(\"distinct\"))\n",
    "    btn_unsure.on_click(on_click_factory(\"unsure\"))\n",
    "    btn_exit.on_click(on_exit)\n",
    "\n",
    "    display(widgets.HBox([btn_yes, btn_no, btn_unsure, btn_exit]))\n",
    "\n",
    "def next_pair():\n",
    "    global index\n",
    "    index += 1\n",
    "    #Giving labeled results for training\n",
    "    deduper.mark_pairs(labeled)\n",
    "    show_pair(index)\n",
    "\n",
    "# Start labeling\n",
    "show_pair(index)"
   ]
  },
  {
   "cell_type": "code",
   "execution_count": null,
   "id": "409a59c0-8dd5-4157-8fdc-53de2a02a7fe",
   "metadata": {
    "jupyter": {
     "outputs_hidden": true
    },
    "microsoft": {
     "language": "python",
     "language_group": "synapse_pyspark"
    }
   },
   "outputs": [],
   "source": [
    "# Step 6: Train after labeling\n",
    "deduper.train()"
   ]
  },
  {
   "cell_type": "markdown",
   "id": "b6a7f2a7-f9ae-4a2c-ae4b-7511f39c521d",
   "metadata": {
    "microsoft": {
     "language": "python",
     "language_group": "synapse_pyspark"
    },
    "nteract": {
     "transient": {
      "deleting": false
     }
    }
   },
   "source": [
    "## Clustering"
   ]
  },
  {
   "cell_type": "code",
   "execution_count": null,
   "id": "ec10901e-3388-4529-a23f-d02ffa2aef4c",
   "metadata": {
    "jupyter": {
     "outputs_hidden": false
    },
    "microsoft": {
     "language": "python",
     "language_group": "synapse_pyspark"
    }
   },
   "outputs": [],
   "source": [
    "# Step 7: Match and cluster\n",
    "# threshold = deduper.best_threshold()\n",
    "clusters = deduper.partition(data_d, threshold = 0.5)"
   ]
  },
  {
   "cell_type": "code",
   "execution_count": null,
   "id": "08106418-258f-4dc1-8372-145c37af3a8e",
   "metadata": {
    "microsoft": {
     "language": "python",
     "language_group": "synapse_pyspark"
    }
   },
   "outputs": [],
   "source": [
    "# Step 9: Map cluster IDs back to the DataFrame\n",
    "cluster_membership = {}\n",
    "for cluster_id, (record_ids, confidence) in enumerate(clusters):\n",
    "    for record_id in record_ids:\n",
    "        cluster_membership[record_id] = cluster_id\n",
    "\n",
    "df['cluster_id'] = df['record_id'].map(cluster_membership)"
   ]
  },
  {
   "cell_type": "code",
   "execution_count": null,
   "id": "5822a069-4170-4007-a38c-c118ff6c529f",
   "metadata": {
    "microsoft": {
     "language": "python",
     "language_group": "synapse_pyspark"
    }
   },
   "outputs": [],
   "source": [
    "df.shape"
   ]
  },
  {
   "cell_type": "markdown",
   "id": "4f7cad11-f5fe-4fbc-893d-3d71d509f6db",
   "metadata": {
    "microsoft": {
     "language": "python",
     "language_group": "synapse_pyspark"
    },
    "nteract": {
     "transient": {
      "deleting": false
     }
    }
   },
   "source": [
    "## Save results"
   ]
  },
  {
   "cell_type": "code",
   "execution_count": null,
   "id": "c2d435d3-6d02-47c2-a31d-a5c5ddaf58af",
   "metadata": {
    "microsoft": {
     "language": "python",
     "language_group": "synapse_pyspark"
    }
   },
   "outputs": [],
   "source": [
    "#Save resulting df into a table in Lakehouse\n",
    "spark_df = spark.createDataFrame(df)\n",
    "# Save as a Delta table in your Lakehouse workspace\n",
    "spark_df.write.mode(\"overwrite\").option(\"overwriteSchema\", \"true\").saveAsTable(\"dedupe_data_people\")"
   ]
  },
  {
   "cell_type": "code",
   "execution_count": null,
   "id": "f5767012-2dac-472f-aed3-c99d17dbaa45",
   "metadata": {
    "advisor": {
     "adviceMetadata": "{\"artifactId\":\"bfec1a15-e6a6-4761-b6ef-eef87c19aec8\",\"activityId\":\"e8fc23e6-22fa-40a9-8a26-8294244d81c5\",\"applicationId\":\"application_1751413450652_0001\",\"jobGroupId\":\"112\",\"advices\":{\"warn\":1}}"
    },
    "microsoft": {
     "language": "python",
     "language_group": "synapse_pyspark"
    }
   },
   "outputs": [],
   "source": [
    "df_check = spark.sql(\"SELECT * FROM Site_Project.dedupe_data_people  LIMIT ALL\").toPandas()\n",
    "df_check.shape"
   ]
  }
 ],
 "metadata": {
  "dependencies": {
   "lakehouse": {
    "default_lakehouse": "5bfac76b-73cc-476f-80a7-9ba8cc00afcd",
    "default_lakehouse_name": "Site_Tokenization_Project",
    "default_lakehouse_workspace_id": "1b66f122-993b-4484-881f-6d859c50e2f1",
    "known_lakehouses": [
     {
      "id": "5bfac76b-73cc-476f-80a7-9ba8cc00afcd"
     }
    ]
   }
  },
  "kernel_info": {
   "name": "synapse_pyspark"
  },
  "kernelspec": {
   "display_name": "synapse_pyspark",
   "name": "synapse_pyspark"
  },
  "language_info": {
   "name": "python"
  },
  "microsoft": {
   "language": "python",
   "language_group": "synapse_pyspark",
   "ms_spell_check": {
    "ms_spell_check_language": "en"
   }
  },
  "nteract": {
   "version": "nteract-front-end@1.0.0"
  },
  "spark_compute": {
   "compute_id": "/trident/default",
   "session_options": {
    "conf": {
     "spark.synapse.nbs.session.timeout": "1200000"
    }
   }
  },
  "widgets": {
   "application/vnd.jupyter.widget-state+json": {
    "state": {
     "0044b47857c74382b7d6394dac6748e1": {
      "model_module": "@jupyter-widgets/base",
      "model_module_version": "2.0.0",
      "model_name": "LayoutModel",
      "state": {}
     },
     "0aa5fd1192ad46a9bb4c156ea0451a80": {
      "model_module": "@jupyter-widgets/controls",
      "model_module_version": "2.0.0",
      "model_name": "ButtonStyleModel",
      "state": {
       "font_family": null,
       "font_size": null,
       "font_style": null,
       "font_variant": null,
       "font_weight": null,
       "text_color": null,
       "text_decoration": null
      }
     },
     "1d0ebe80d2ef4a72867e5c8582ae9b3c": {
      "model_module": "@jupyter-widgets/controls",
      "model_module_version": "2.0.0",
      "model_name": "ButtonStyleModel",
      "state": {
       "font_family": null,
       "font_size": null,
       "font_style": null,
       "font_variant": null,
       "font_weight": null,
       "text_color": null,
       "text_decoration": null
      }
     },
     "6151f3ce4354410ea6ba839f003eaac0": {
      "model_module": "@jupyter-widgets/controls",
      "model_module_version": "2.0.0",
      "model_name": "ButtonStyleModel",
      "state": {
       "font_family": null,
       "font_size": null,
       "font_style": null,
       "font_variant": null,
       "font_weight": null,
       "text_color": null,
       "text_decoration": null
      }
     },
     "70e2f5d320774134b6371d97323dc208": {
      "model_module": "@jupyter-widgets/base",
      "model_module_version": "2.0.0",
      "model_name": "LayoutModel",
      "state": {}
     },
     "710d4ce75aef4f7cb348e1efd1e18c03": {
      "model_module": "@jupyter-widgets/controls",
      "model_module_version": "2.0.0",
      "model_name": "HBoxModel",
      "state": {
       "children": [
        "IPY_MODEL_93325cbe20a541dbb65a25ceb04ea572",
        "IPY_MODEL_b5973cbfc08c452c8cbef664c0502f67",
        "IPY_MODEL_dd25b1d72b7a4c7a831831ebbefd6384",
        "IPY_MODEL_bc4ecb771a9846b09659da072cc6e29f"
       ],
       "layout": "IPY_MODEL_70e2f5d320774134b6371d97323dc208"
      }
     },
     "93325cbe20a541dbb65a25ceb04ea572": {
      "model_module": "@jupyter-widgets/controls",
      "model_module_version": "2.0.0",
      "model_name": "ButtonModel",
      "state": {
       "description": "✅ Yes",
       "layout": "IPY_MODEL_0044b47857c74382b7d6394dac6748e1",
       "style": "IPY_MODEL_0aa5fd1192ad46a9bb4c156ea0451a80",
       "tooltip": null
      }
     },
     "b5973cbfc08c452c8cbef664c0502f67": {
      "model_module": "@jupyter-widgets/controls",
      "model_module_version": "2.0.0",
      "model_name": "ButtonModel",
      "state": {
       "description": "❌ No",
       "layout": "IPY_MODEL_b7c45441be7f48fab33dd5f042b0bb2d",
       "style": "IPY_MODEL_1d0ebe80d2ef4a72867e5c8582ae9b3c",
       "tooltip": null
      }
     },
     "b7c45441be7f48fab33dd5f042b0bb2d": {
      "model_module": "@jupyter-widgets/base",
      "model_module_version": "2.0.0",
      "model_name": "LayoutModel",
      "state": {}
     },
     "bc4ecb771a9846b09659da072cc6e29f": {
      "model_module": "@jupyter-widgets/controls",
      "model_module_version": "2.0.0",
      "model_name": "ButtonModel",
      "state": {
       "description": "⏹ Exit Labeling",
       "layout": "IPY_MODEL_ece9a8c9e767425eba749db360e8aec6",
       "style": "IPY_MODEL_c32516625fd541d38dc4312fcf0f4f55",
       "tooltip": null
      }
     },
     "c32516625fd541d38dc4312fcf0f4f55": {
      "model_module": "@jupyter-widgets/controls",
      "model_module_version": "2.0.0",
      "model_name": "ButtonStyleModel",
      "state": {
       "font_family": null,
       "font_size": null,
       "font_style": null,
       "font_variant": null,
       "font_weight": null,
       "text_color": null,
       "text_decoration": null
      }
     },
     "dd25b1d72b7a4c7a831831ebbefd6384": {
      "model_module": "@jupyter-widgets/controls",
      "model_module_version": "2.0.0",
      "model_name": "ButtonModel",
      "state": {
       "description": "❓ Unsure",
       "layout": "IPY_MODEL_e7b45c3c096c413f9f073ec24af4d44c",
       "style": "IPY_MODEL_6151f3ce4354410ea6ba839f003eaac0",
       "tooltip": null
      }
     },
     "e7b45c3c096c413f9f073ec24af4d44c": {
      "model_module": "@jupyter-widgets/base",
      "model_module_version": "2.0.0",
      "model_name": "LayoutModel",
      "state": {}
     },
     "ece9a8c9e767425eba749db360e8aec6": {
      "model_module": "@jupyter-widgets/base",
      "model_module_version": "2.0.0",
      "model_name": "LayoutModel",
      "state": {}
     }
    },
    "version_major": 2,
    "version_minor": 0
   }
  }
 },
 "nbformat": 4,
 "nbformat_minor": 5
}
